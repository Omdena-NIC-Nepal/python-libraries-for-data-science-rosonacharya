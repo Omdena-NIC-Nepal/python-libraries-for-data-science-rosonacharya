{
 "cells": [
  {
   "cell_type": "code",
   "execution_count": 2,
   "id": "eb7fad97-1a69-43dc-b4a9-0d1d47f8fd07",
   "metadata": {},
   "outputs": [
    {
     "name": "stdout",
     "output_type": "stream",
     "text": [
      "1D Array is [2 4 6 8]\n",
      "2D array is \n",
      " [[2 4 6 8]\n",
      " [1 2 3 4]]\n"
     ]
    }
   ],
   "source": [
    "import numpy as np\n",
    "import pandas as pd\n",
    "# Task 1: NumPy Basics\n",
    "\n",
    "# 1. Array Creation\n",
    "# Create a 1D and a 2D NumPy array\n",
    "ar_1=np.array([2,4,6,8])\n",
    "print(\"1D Array is\",ar_1)\n",
    "ar_2= np.array([[2, 4, 6, 8], [1, 2, 3, 4]])\n",
    "print(\"2D array is \\n\",ar_2)"
   ]
  },
  {
   "cell_type": "code",
   "execution_count": 4,
   "id": "f9bb261c-3b41-46aa-a076-890c2b96f7f8",
   "metadata": {},
   "outputs": [
    {
     "name": "stdout",
     "output_type": "stream",
     "text": [
      "1D array addition is  [ 7  9 11 13]\n",
      "2D array mul is [[20 40 60 80]\n",
      " [10 20 30 40]]\n"
     ]
    }
   ],
   "source": [
    "# 2. Array Operations\n",
    "# Perform basic arithmetic operations on the arrays\n",
    "ar_1_add=ar_1+5\n",
    "print(\"1D array addition is \",ar_1_add)\n",
    "ar_2_mul=ar_2*10\n",
    "print(\"2D array mul is\", ar_2_mul)"
   ]
  },
  {
   "cell_type": "code",
   "execution_count": 13,
   "id": "d52861aa-a389-465e-a806-742d3f11c775",
   "metadata": {},
   "outputs": [
    {
     "name": "stdout",
     "output_type": "stream",
     "text": [
      "Silicing and indexing of 1D array\n",
      "1st element is 2\n",
      "Element from 2 -3 index is [6 8]\n",
      "Indexing of 2D array\n",
      "1St R 1St Col is 2\n",
      "1st row elemet is  [2 4 6 8]\n"
     ]
    }
   ],
   "source": [
    "# 3. Indexing and Slicing\n",
    "# Demonstrate indexing and slicing on the arrays\n",
    "print(\"Silicing and indexing of 1D array\")\n",
    "print(\"1st element is\",ar_1[0])\n",
    "print(\"Element from 2 -3 index is\",ar_1[2:])\n",
    "print(\"Indexing of 2D array\")\n",
    "print(\"1St R 1St Col is\",ar_2[0][0])\n",
    "print(\"1st row elemet is \",ar_2[0,:])"
   ]
  },
  {
   "cell_type": "code",
   "execution_count": 17,
   "id": "92998901-7681-4270-a40d-6511e7835f53",
   "metadata": {},
   "outputs": [
    {
     "name": "stdout",
     "output_type": "stream",
     "text": [
      "2D array shape is (2, 4)\n",
      "Reshaped array is [[2 4]\n",
      " [6 8]\n",
      " [1 2]\n",
      " [3 4]]\n"
     ]
    }
   ],
   "source": [
    "# 4. Shape and Reshape\n",
    "# Show how to check the shape of an array and reshape it\n",
    "print(\"2D array shape is\", ar_2.shape)\n",
    "ar_2_reshaped=ar_2.reshape(4,2)\n",
    "print(\"Reshaped array is\", ar_2_reshaped)"
   ]
  },
  {
   "cell_type": "code",
   "execution_count": 20,
   "id": "8e998bc0-3ff0-4904-aaa1-3bb17593730e",
   "metadata": {},
   "outputs": [
    {
     "name": "stdout",
     "output_type": "stream",
     "text": [
      "0    1\n",
      "1    2\n",
      "2    3\n",
      "3    4\n",
      "4    5\n",
      "dtype: int64\n",
      "   Name  Age\n",
      "0   Ram   25\n",
      "1  Sita   45\n",
      "2  Gita   34\n"
     ]
    }
   ],
   "source": [
    "# Task 2: Pandas Basics\n",
    "# 1. Series and DataFrame Creation\n",
    "# Create a Pandas Series and DataFrame\n",
    "pad_1=pd.Series([1,2,3,4,5])\n",
    "print(pad_1)\n",
    "dataframe_1=pd.DataFrame({\n",
    "    'Name':['Ram','Sita','Gita'],\n",
    "    'Age':[25,45,34]})\n",
    "print(dataframe_1)\n"
   ]
  },
  {
   "cell_type": "code",
   "execution_count": 25,
   "id": "92d468bd-d04d-49f3-9d25-f9e801b35df0",
   "metadata": {},
   "outputs": [
    {
     "name": "stdout",
     "output_type": "stream",
     "text": [
      "Read DataFrame from CSV:\n",
      "    A  B  C\n",
      "0  1  4  7\n",
      "1  2  5  8\n",
      "2  3  6  9\n"
     ]
    }
   ],
   "source": [
    "# 2. Reading Data\n",
    "# Read data from a CSV file (ensure you have a sample CSV file in your repository)\n",
    "read_df = pd.read_csv('data.csv')\n",
    "print(\"Read DataFrame from CSV:\\n\", read_df)"
   ]
  },
  {
   "cell_type": "code",
   "execution_count": 26,
   "id": "a7ee6e4f-6a64-45ed-9859-34e15d670f77",
   "metadata": {},
   "outputs": [
    {
     "name": "stdout",
     "output_type": "stream",
     "text": [
      "Head of DataFrame:\n",
      "    A  B  C\n",
      "0  1  4  7\n",
      "1  2  5  8\n",
      "2  3  6  9\n",
      "<class 'pandas.core.frame.DataFrame'>\n",
      "RangeIndex: 3 entries, 0 to 2\n",
      "Data columns (total 3 columns):\n",
      " #   Column  Non-Null Count  Dtype\n",
      "---  ------  --------------  -----\n",
      " 0   A       3 non-null      int64\n",
      " 1   B       3 non-null      int64\n",
      " 2   C       3 non-null      int64\n",
      "dtypes: int64(3)\n",
      "memory usage: 204.0 bytes\n",
      "Info of DataFrame:\n",
      " None\n",
      "Description of DataFrame:\n",
      "          A    B    C\n",
      "count  3.0  3.0  3.0\n",
      "mean   2.0  5.0  8.0\n",
      "std    1.0  1.0  1.0\n",
      "min    1.0  4.0  7.0\n",
      "25%    1.5  4.5  7.5\n",
      "50%    2.0  5.0  8.0\n",
      "75%    2.5  5.5  8.5\n",
      "max    3.0  6.0  9.0\n"
     ]
    }
   ],
   "source": [
    " #3. Data Inspection\n",
    "# Perform basic data inspection methods\n",
    "print(\"Head of DataFrame:\\n\", read_df.head())\n",
    "print(\"Info of DataFrame:\\n\", read_df.info())\n",
    "print(\"Description of DataFrame:\\n\", read_df.describe())\n"
   ]
  },
  {
   "cell_type": "code",
   "execution_count": 27,
   "id": "41005617-9313-4783-8f9b-58baacbf4089",
   "metadata": {},
   "outputs": [
    {
     "name": "stdout",
     "output_type": "stream",
     "text": [
      "Column A:\n",
      " 0    1\n",
      "1    2\n",
      "2    3\n",
      "Name: A, dtype: int64\n",
      "Columns A and B:\n",
      "    A  B\n",
      "0  1  4\n",
      "1  2  5\n",
      "2  3  6\n"
     ]
    }
   ],
   "source": [
    "# 4. Data Manipulation\n",
    "# Selecting Data\n",
    "print(\"Column A:\\n\", read_df['A'])\n",
    "print(\"Columns A and B:\\n\", read_df[['A', 'B']])"
   ]
  },
  {
   "cell_type": "code",
   "execution_count": 28,
   "id": "15bff426-6106-4b26-9746-85fa39b24805",
   "metadata": {},
   "outputs": [
    {
     "name": "stdout",
     "output_type": "stream",
     "text": [
      "Filtered DataFrame (A > 1):\n",
      "    A  B  C\n",
      "1  2  5  8\n",
      "2  3  6  9\n"
     ]
    }
   ],
   "source": [
    "# Filtering Data\n",
    "filtered_df = read_df[read_df['A'] > 1]\n",
    "print(\"Filtered DataFrame (A > 1):\\n\", filtered_df)"
   ]
  },
  {
   "cell_type": "code",
   "execution_count": 29,
   "id": "8bd607d3-f4e0-44f0-be71-6394efbae544",
   "metadata": {},
   "outputs": [
    {
     "name": "stdout",
     "output_type": "stream",
     "text": [
      "DataFrame with new column D:\n",
      "    A  B  C  D\n",
      "0  1  4  7  5\n",
      "1  2  5  8  7\n",
      "2  3  6  9  9\n",
      "DataFrame after dropping column D:\n",
      "    A  B  C\n",
      "0  1  4  7\n",
      "1  2  5  8\n",
      "2  3  6  9\n"
     ]
    }
   ],
   "source": [
    "# Adding/Removing Columns\n",
    "read_df['D'] = read_df['A'] + read_df['B']\n",
    "print(\"DataFrame with new column D:\\n\",read_df)\n",
    "read_df.drop('D', axis=1, inplace=True)\n",
    "print(\"DataFrame after dropping column D:\\n\", read_df)"
   ]
  },
  {
   "cell_type": "code",
   "execution_count": 30,
   "id": "3868426b-29e5-4f5c-8c60-c0bb34a0b480",
   "metadata": {},
   "outputs": [
    {
     "name": "stdout",
     "output_type": "stream",
     "text": [
      "DataFrame with NaN:\n",
      "    A    B  C\n",
      "0  1  4.0  7\n",
      "1  2  NaN  8\n",
      "2  3  6.0  9\n",
      "DataFrame after dropping NaN:\n",
      "    A    B  C\n",
      "0  1  4.0  7\n",
      "2  3  6.0  9\n",
      "DataFrame after filling NaN with 0:\n",
      "    A    B  C\n",
      "0  1  4.0  7\n",
      "1  2  0.0  8\n",
      "2  3  6.0  9\n"
     ]
    }
   ],
   "source": [
    "# Handling Missing Data\n",
    "df_with_nan = read_df.copy()\n",
    "df_with_nan.loc[1, 'B'] = np.nan\n",
    "print(\"DataFrame with NaN:\\n\", df_with_nan)\n",
    "print(\"DataFrame after dropping NaN:\\n\", df_with_nan.dropna())\n",
    "print(\"DataFrame after filling NaN with 0:\\n\", df_with_nan.fillna(0))"
   ]
  },
  {
   "cell_type": "code",
   "execution_count": 31,
   "id": "6b6c7e95-3d94-4202-9064-46150a587562",
   "metadata": {},
   "outputs": [
    {
     "name": "stdout",
     "output_type": "stream",
     "text": [
      "Mean of column A: 2.0\n",
      "Sum of column A: 6\n"
     ]
    }
   ],
   "source": [
    "# Task 3: Data Analysis with Pandas\n",
    "# Aggregations\n",
    "print(\"Mean of column A:\", read_df['A'].mean())\n",
    "print(\"Sum of column A:\", read_df['A'].sum())\n"
   ]
  },
  {
   "cell_type": "code",
   "execution_count": 32,
   "id": "a7995b24-d4d1-4ebe-b179-d1bf89070323",
   "metadata": {},
   "outputs": [
    {
     "name": "stdout",
     "output_type": "stream",
     "text": [
      "Merged DataFrame:\n",
      "   key  value_x  value_y\n",
      "0   A        1        4\n",
      "1   B        2        5\n"
     ]
    }
   ],
   "source": [
    "# Merging and Joining\n",
    "df1 = pd.DataFrame({'key': ['A', 'B', 'C'], 'value': [1, 2, 3]})\n",
    "df2 = pd.DataFrame({'key': ['A', 'B', 'D'], 'value': [4, 5, 6]})\n",
    "merged_df = pd.merge(df1, df2, on='key', how='inner')\n",
    "print(\"Merged DataFrame:\\n\", merged_df)\n"
   ]
  },
  {
   "cell_type": "code",
   "execution_count": 34,
   "id": "80c8568d-98dc-4115-92ec-0b951e7b7058",
   "metadata": {},
   "outputs": [
    {
     "name": "stdout",
     "output_type": "stream",
     "text": [
      "Pivot Table:\n",
      " B    4    5    6\n",
      "A               \n",
      "1  7.0  NaN  NaN\n",
      "2  NaN  8.0  NaN\n",
      "3  NaN  NaN  9.0\n"
     ]
    }
   ],
   "source": [
    "# Pivot Tables\n",
    "pivot_df = read_df.pivot_table(values='C', index='A', columns='B', aggfunc='mean')\n",
    "print(\"Pivot Table:\\n\", pivot_df)\n"
   ]
  },
  {
   "cell_type": "code",
   "execution_count": 36,
   "id": "09ed4291-8398-4780-a203-6f8dc7f1b8c1",
   "metadata": {},
   "outputs": [
    {
     "name": "stdout",
     "output_type": "stream",
     "text": [
      "DataFrame with Date Index:\n",
      "             A  B  C\n",
      "date               \n",
      "2020-01-01  1  4  7\n",
      "2020-01-02  2  5  8\n",
      "2020-01-03  3  6  9\n",
      "Resampled DataFrame:\n",
      "               A    B    C\n",
      "date                     \n",
      "2020-01-31  2.0  5.0  8.0\n"
     ]
    },
    {
     "name": "stderr",
     "output_type": "stream",
     "text": [
      "C:\\Users\\User\\AppData\\Local\\Temp\\ipykernel_10664\\1254934817.py:5: FutureWarning: 'M' is deprecated and will be removed in a future version, please use 'ME' instead.\n",
      "  resampled_df = read_df.resample('M').mean()\n"
     ]
    }
   ],
   "source": [
    "# Time Series Analysis\n",
    "read_df['date'] = pd.date_range(start='1/1/2020', periods=len(read_df), freq='D')\n",
    "read_df.set_index('date', inplace=True)\n",
    "print(\"DataFrame with Date Index:\\n\",read_df)\n",
    "resampled_df = read_df.resample('M').mean()\n",
    "print(\"Resampled DataFrame:\\n\", resampled_df)"
   ]
  },
  {
   "cell_type": "code",
   "execution_count": null,
   "id": "07c61dd5-8bf4-4416-afea-67378426f34b",
   "metadata": {},
   "outputs": [],
   "source": []
  }
 ],
 "metadata": {
  "kernelspec": {
   "display_name": "Python 3 (ipykernel)",
   "language": "python",
   "name": "python3"
  },
  "language_info": {
   "codemirror_mode": {
    "name": "ipython",
    "version": 3
   },
   "file_extension": ".py",
   "mimetype": "text/x-python",
   "name": "python",
   "nbconvert_exporter": "python",
   "pygments_lexer": "ipython3",
   "version": "3.12.2"
  }
 },
 "nbformat": 4,
 "nbformat_minor": 5
}
